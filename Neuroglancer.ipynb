{
 "cells": [
  {
   "cell_type": "markdown",
   "id": "096f9730-fa08-4d19-8fe8-dbc4e5948c65",
   "metadata": {},
   "source": [
    "Example from (Neuroglancer)[https://github.com/google/neuroglancer/blob/master/python/examples/jupyter-notebook-demo.ipynb] implemented below with customly made ipywidgets."
   ]
  },
  {
   "cell_type": "code",
   "execution_count": 13,
   "id": "13717af3-b075-4677-9353-0ef2e009aaad",
   "metadata": {},
   "outputs": [],
   "source": [
    "import neuroglancer\n",
    "import numpy as np"
   ]
  },
  {
   "cell_type": "code",
   "execution_count": 14,
   "id": "eb78a771-1dbd-42f1-b446-611e4cec0901",
   "metadata": {},
   "outputs": [],
   "source": [
    "viewer = neuroglancer.Viewer()"
   ]
  },
  {
   "cell_type": "code",
   "execution_count": 15,
   "id": "86af715f-17e8-48ce-a437-73144a8ea7e3",
   "metadata": {},
   "outputs": [],
   "source": [
    "with viewer.txn() as s:\n",
    "  s.layers['image'] = neuroglancer.ImageLayer(source='precomputed://gs://neuroglancer-public-data/flyem_fib-25/image')\n",
    "  s.layers['segmentation'] = neuroglancer.SegmentationLayer(source='precomputed://gs://neuroglancer-public-data/flyem_fib-25/ground_truth', selected_alpha=0.3)\n",
    "  "
   ]
  },
  {
   "cell_type": "code",
   "execution_count": 16,
   "id": "7233f282-6743-4c83-8534-40847caf323b",
   "metadata": {},
   "outputs": [],
   "source": [
    "with viewer.txn() as s:\n",
    "    s.voxel_coordinates = [3000.5, 3000.5, 3000.5]"
   ]
  },
  {
   "cell_type": "code",
   "execution_count": 17,
   "id": "b0e7ff65-1887-4a3e-a113-2248962ab214",
   "metadata": {},
   "outputs": [],
   "source": [
    "with viewer.txn() as s:\n",
    "    s.layers['segmentation'].visible = False"
   ]
  },
  {
   "cell_type": "markdown",
   "id": "3d350714-337a-4a3d-ad88-2b6b8f945941",
   "metadata": {},
   "source": [
    "Code below will ask to authorize into google.\n",
    "After authorization, the dataset for this example is public, anyone can use it.\n",
    "However, after reloading the kernel the following warning may pop-up. Ignore it, it's not fatal and everything will load:\n",
    "\n",
    "```\n",
    "tensorstore/kvstore/gcs/admission_queue.cc:108: Using default AdmissionQueue with limit 32\n",
    "tensorstore/internal/oauth2/google_auth_provider.cc:149: Using credentials at /home/ambt/.config/gcloud/application_default_credentials.json\n",
    "tensorstore/internal/oauth2/google_auth_provider.cc:156: Using OAuth2 AuthProvider\n",
    "```"
   ]
  },
  {
   "cell_type": "code",
   "execution_count": 18,
   "id": "c0e2ad96-584a-431a-81a0-25ca484f922d",
   "metadata": {},
   "outputs": [],
   "source": [
    "import tensorstore as ts\n",
    "image_vol = await ts.open({'driver': 'neuroglancer_precomputed', 'kvstore': 'gs://neuroglancer-public-data/flyem_fib-25/image/'})\n",
    "a = np.zeros((200,200,200), np.uint8)\n",
    "def make_thresholded(threshold):\n",
    "  a[...] = image_vol[3000:3200,3000:3200,3000:3200][...,0].read().result() > threshold\n",
    "make_thresholded(110)\n",
    "# This volume handle can be used to notify the viewer that the data has changed.\n",
    "volume = neuroglancer.LocalVolume(\n",
    "    a,\n",
    "    dimensions=neuroglancer.CoordinateSpace(\n",
    "        names=['x', 'y', 'z'],\n",
    "        units='nm',\n",
    "        scales=[8, 8, 8],\n",
    "    ),\n",
    "    voxel_offset=[3000, 3000, 3000])\n",
    "with viewer.txn() as s:\n",
    "  s.layers['overlay'] = neuroglancer.ImageLayer(\n",
    "        source=volume,\n",
    "      # Define a custom shader to display this mask array as red+alpha.\n",
    "        shader=\"\"\"\n",
    "void main() {\n",
    "  float v = toNormalized(getDataValue(0)) * 255.0;\n",
    "  emitRGBA(vec4(v, 0.0, 0.0, v));\n",
    "}\n",
    "\"\"\",\n",
    "    )"
   ]
  },
  {
   "cell_type": "code",
   "execution_count": 7,
   "id": "6d1fe444-146c-400d-9afa-95055db462f2",
   "metadata": {},
   "outputs": [],
   "source": [
    "make_thresholded(100)\n",
    "volume.invalidate()"
   ]
  },
  {
   "cell_type": "code",
   "execution_count": 8,
   "id": "91dd0972-7c9e-4efb-a9b8-03193c9d9436",
   "metadata": {},
   "outputs": [],
   "source": [
    "with viewer.txn() as s:\n",
    "    s.layers['segmentation'].segments.update([1752, 88847])\n",
    "    s.layers['segmentation'].visible = True"
   ]
  },
  {
   "cell_type": "code",
   "execution_count": 9,
   "id": "0c1292fb-ebd4-49d9-8760-ddef6dc9c52a",
   "metadata": {},
   "outputs": [
    {
     "data": {
      "text/plain": [
       "'11914cce3705422ffad824482680d5deb9ee81e7'"
      ]
     },
     "execution_count": 9,
     "metadata": {},
     "output_type": "execute_result"
    }
   ],
   "source": [
    "import copy\n",
    "new_state = copy.deepcopy(viewer.state)\n",
    "new_state.layers['segmentation'].segments.add(10625)\n",
    "viewer.set_state(new_state)"
   ]
  },
  {
   "cell_type": "code",
   "execution_count": 10,
   "id": "2ded9176-3044-427e-b74c-54d6975e6086",
   "metadata": {},
   "outputs": [],
   "source": [
    "num_actions = 0\n",
    "def my_action(s):\n",
    "    global num_actions\n",
    "    num_actions += 1\n",
    "    with viewer.config_state.txn() as st:\n",
    "      st.status_messages['hello'] = ('Got action %d: mouse position = %r' %\n",
    "                                     (num_actions, s.mouse_voxel_coordinates))\n",
    "    print('Got my-action')\n",
    "    print('  Mouse position: %s' % (s.mouse_voxel_coordinates,))\n",
    "    print('  Layer selected values: %s' % (s.selected_values,))\n",
    "viewer.actions.add('my-action', my_action)\n",
    "with viewer.config_state.txn() as s:\n",
    "    s.input_event_bindings.viewer['keyt'] = 'my-action'\n",
    "    s.status_messages['hello'] = 'Welcome to this example'"
   ]
  },
  {
   "cell_type": "code",
   "execution_count": 11,
   "id": "5133180a-b936-42e9-967b-19dd4547ed13",
   "metadata": {},
   "outputs": [
    {
     "name": "stdout",
     "output_type": "stream",
     "text": [
      "None\n"
     ]
    }
   ],
   "source": [
    "with viewer.txn() as s:\n",
    "    s.layout = '3d'\n",
    "    print(s.projection_scale)\n",
    "    s.projection_scale = 3000\n",
    "    # s.projection_depth = 1200000"
   ]
  },
  {
   "cell_type": "markdown",
   "id": "fd8536f7-8d7e-4a31-89b9-6bce3ffa6592",
   "metadata": {},
   "source": [
    "## Custom widgets"
   ]
  },
  {
   "cell_type": "code",
   "execution_count": 12,
   "id": "a2305e7d-4f17-4ad0-a50c-eea532baa2be",
   "metadata": {},
   "outputs": [
    {
     "data": {
      "application/vnd.jupyter.widget-view+json": {
       "model_id": "c4aec1029459402fbe244596e1270a13",
       "version_major": 2,
       "version_minor": 0
      },
      "text/plain": [
       "HBox(children=(VBox(children=(HTML(value='<h3>Navigation</h3>', layout=Layout(height='auto')), FloatSlider(val…"
      ]
     },
     "metadata": {},
     "output_type": "display_data"
    }
   ],
   "source": [
    "import ipywidgets as widgets\n",
    "\n",
    "def get_header(text):\n",
    "    return widgets.HTML(\"<h3>{}</h3>\".format(text), layout=widgets.Layout(height='auto'))\n",
    "\n",
    "# Widgets\n",
    "\n",
    "# Zoom\n",
    "zoom_slider = widgets.FloatSlider(\n",
    "    value=1,\n",
    "    min=0,\n",
    "    max=25,\n",
    "    step=1,\n",
    "    description='Zoom:',\n",
    "    disabled=False,\n",
    "    continuous_update=True,\n",
    "    orientation='horizontal',\n",
    "    readout=True,\n",
    "    readout_format='.1f'\n",
    ")\n",
    "\n",
    "# X-Axis\n",
    "x_location = widgets.FloatSlider(\n",
    "    value=3000,\n",
    "    min=1500,\n",
    "    max=4500,\n",
    "    step=100,\n",
    "    description='X Location:',\n",
    "    disabled=False,\n",
    "    continuous_update=True,\n",
    "    orientation='horizontal',\n",
    "    readout=True,\n",
    "    readout_format='.1f'\n",
    ")\n",
    "\n",
    "# Y-Axis\n",
    "\n",
    "y_location = widgets.FloatSlider(\n",
    "    value=3000,\n",
    "    min=1500,\n",
    "    max=4500,\n",
    "    step=100,\n",
    "    description='Y Location:',\n",
    "    disabled=False,\n",
    "    continuous_update=True,\n",
    "    orientation='horizontal',\n",
    "    readout=True,\n",
    "    readout_format='.1f'\n",
    ")\n",
    "\n",
    "#Z-Axis\n",
    "\n",
    "z_location = widgets.FloatSlider(\n",
    "    value=1000,\n",
    "    min=1000,\n",
    "    max=10000,\n",
    "    step=100,\n",
    "    description='Z Location:',\n",
    "    disabled=False,\n",
    "    continuous_update=True,\n",
    "    orientation='horizontal',\n",
    "    readout=True,\n",
    "    readout_format='.1f'\n",
    ")\n",
    "\n",
    "# Layers\n",
    "\n",
    "layers = [\n",
    "    widgets.Checkbox(\n",
    "        value=True,\n",
    "        description='Image',\n",
    "        disabled=False,\n",
    "        indent=False\n",
    "    ),\n",
    "    widgets.Checkbox(\n",
    "        value=True,\n",
    "        description='Segmentation',\n",
    "        disabled=False,\n",
    "        indent=False\n",
    "    ),\n",
    "    widgets.Checkbox(\n",
    "        value=True,\n",
    "        description='Overlay',\n",
    "        disabled=False,\n",
    "        indent=False\n",
    "    ),\n",
    "]\n",
    "\n",
    "# add widget to change layout\n",
    "current_layout=widgets.ToggleButtons(\n",
    "    options=[\"xy\",\"yz\",\"xz\",\"4panel\",\"3d\"],                           \n",
    "    disabled=False,\n",
    "    value=\"3d\",\n",
    "    # layout=widgets.Layout(width='50%')\n",
    ")\n",
    "\n",
    "# Callback list\n",
    "\n",
    "def change_zoom_value(change):\n",
    "    with viewer.txn() as s:\n",
    "        s.crossSectionScale = change['new']\n",
    "\n",
    "def change_x_axis(change):\n",
    "    with viewer.txn() as s:\n",
    "        s.position[0] = change['new']\n",
    "        \n",
    "def change_y_axis(change):\n",
    "    with viewer.txn() as s:\n",
    "        s.position[1] = change['new']\n",
    "        \n",
    "def change_z_axis(change):\n",
    "    with viewer.txn() as s:\n",
    "        s.position[2] = change['new']\n",
    "        \n",
    "def change_layer(change):\n",
    "    layer_name = change.owner.description.lower()\n",
    "    with viewer.txn() as s:\n",
    "        layer = [l for l in s.layers if l.name == layer_name]\n",
    "        if len(layer) == 1:\n",
    "            layer[0].visible = change['new']\n",
    "            \n",
    "def layout_observer(change):\n",
    "    with viewer.txn() as s:\n",
    "        s.layout = change['new']\n",
    "        \n",
    "# Observers\n",
    "    \n",
    "zoom_slider.observe(change_zoom_value, 'value')\n",
    "x_location.observe(change_x_axis, 'value')\n",
    "y_location.observe(change_y_axis, 'value')\n",
    "z_location.observe(change_z_axis, 'value')\n",
    "\n",
    "for child in layers:\n",
    "    child.observe(change_layer, 'value')\n",
    "    \n",
    "current_layout.observe(layout_observer,'value')\n",
    "    \n",
    "# Display\n",
    "\n",
    "htmlIframe = '<iframe src=\"{}\" style=\"width:99%;height:98vh;\"></iframe>'.format(str(viewer))\n",
    "\n",
    "iframe_widget = widgets.HTML(value=htmlIframe,layout=widgets.Layout(width='100%',height='100%'))\n",
    "display(widgets.HBox(\n",
    "    children=[widgets.VBox([\n",
    "        get_header(\"Navigation\"),\n",
    "        zoom_slider,\n",
    "        x_location,\n",
    "        y_location,\n",
    "        z_location,\n",
    "        get_header(\"Layers\"),\n",
    "        *layers,\n",
    "        get_header(\"Layout\"),\n",
    "        current_layout\n",
    "    ],\n",
    "    layout=widgets.Layout(width='430px',height='100%')\n",
    "), iframe_widget]))\n"
   ]
  },
  {
   "cell_type": "code",
   "execution_count": null,
   "id": "a725e8c9-98e7-48e5-b403-288624b9f342",
   "metadata": {},
   "outputs": [],
   "source": []
  }
 ],
 "metadata": {
  "kernelspec": {
   "display_name": "Python 3 (ipykernel)",
   "language": "python",
   "name": "python3"
  },
  "language_info": {
   "codemirror_mode": {
    "name": "ipython",
    "version": 3
   },
   "file_extension": ".py",
   "mimetype": "text/x-python",
   "name": "python",
   "nbconvert_exporter": "python",
   "pygments_lexer": "ipython3",
   "version": "3.9.13"
  }
 },
 "nbformat": 4,
 "nbformat_minor": 5
}
